{
 "cells": [
  {
   "cell_type": "code",
   "execution_count": 1,
   "metadata": {},
   "outputs": [],
   "source": [
    "# import required dependencies\n",
    "import pandas as pd\n",
    "from tensorflow.data import Dataset\n",
    "import os\n",
    "from tensorflow.keras import layers\n",
    "from sklearn.preprocessing import OrdinalEncoder\n",
    "from preprocess import get_interesting_idx,load_data\n",
    "import tensorflow as tf\n",
    "from sklearn.model_selection import train_test_split\n",
    "import numpy as np\n",
    "import warnings"
   ]
  },
  {
   "cell_type": "code",
   "execution_count": 2,
   "metadata": {},
   "outputs": [],
   "source": [
    "warnings.filterwarnings('ignore')"
   ]
  },
  {
   "cell_type": "code",
   "execution_count": 3,
   "metadata": {},
   "outputs": [],
   "source": [
    "od_encode = OrdinalEncoder()"
   ]
  },
  {
   "cell_type": "code",
   "execution_count": 4,
   "metadata": {},
   "outputs": [
    {
     "data": {
      "text/html": [
       "<div>\n",
       "<style scoped>\n",
       "    .dataframe tbody tr th:only-of-type {\n",
       "        vertical-align: middle;\n",
       "    }\n",
       "\n",
       "    .dataframe tbody tr th {\n",
       "        vertical-align: top;\n",
       "    }\n",
       "\n",
       "    .dataframe thead th {\n",
       "        text-align: right;\n",
       "    }\n",
       "</style>\n",
       "<table border=\"1\" class=\"dataframe\">\n",
       "  <thead>\n",
       "    <tr style=\"text-align: right;\">\n",
       "      <th></th>\n",
       "      <th>path</th>\n",
       "      <th>participant_id</th>\n",
       "      <th>sequence_id</th>\n",
       "      <th>sign</th>\n",
       "      <th>source</th>\n",
       "    </tr>\n",
       "  </thead>\n",
       "  <tbody>\n",
       "    <tr>\n",
       "      <th>7</th>\n",
       "      <td>train_landmark_files/30680/1005102931.parquet</td>\n",
       "      <td>30680</td>\n",
       "      <td>1005102931</td>\n",
       "      <td>4</td>\n",
       "      <td>train_landmark_files/30680/1005102931.parquet$4</td>\n",
       "    </tr>\n",
       "    <tr>\n",
       "      <th>11</th>\n",
       "      <td>train_landmark_files/22343/1006778422.parquet</td>\n",
       "      <td>22343</td>\n",
       "      <td>1006778422</td>\n",
       "      <td>1</td>\n",
       "      <td>train_landmark_files/22343/1006778422.parquet$1</td>\n",
       "    </tr>\n",
       "    <tr>\n",
       "      <th>17</th>\n",
       "      <td>train_landmark_files/32319/1011764636.parquet</td>\n",
       "      <td>32319</td>\n",
       "      <td>1011764636</td>\n",
       "      <td>0</td>\n",
       "      <td>train_landmark_files/32319/1011764636.parquet$0</td>\n",
       "    </tr>\n",
       "    <tr>\n",
       "      <th>18</th>\n",
       "      <td>train_landmark_files/37055/1011888729.parquet</td>\n",
       "      <td>37055</td>\n",
       "      <td>1011888729</td>\n",
       "      <td>1</td>\n",
       "      <td>train_landmark_files/37055/1011888729.parquet$1</td>\n",
       "    </tr>\n",
       "    <tr>\n",
       "      <th>26</th>\n",
       "      <td>train_landmark_files/27610/1016834986.parquet</td>\n",
       "      <td>27610</td>\n",
       "      <td>1016834986</td>\n",
       "      <td>4</td>\n",
       "      <td>train_landmark_files/27610/1016834986.parquet$4</td>\n",
       "    </tr>\n",
       "  </tbody>\n",
       "</table>\n",
       "</div>"
      ],
      "text/plain": [
       "                                             path  participant_id  \\\n",
       "7   train_landmark_files/30680/1005102931.parquet           30680   \n",
       "11  train_landmark_files/22343/1006778422.parquet           22343   \n",
       "17  train_landmark_files/32319/1011764636.parquet           32319   \n",
       "18  train_landmark_files/37055/1011888729.parquet           37055   \n",
       "26  train_landmark_files/27610/1016834986.parquet           27610   \n",
       "\n",
       "    sequence_id  sign                                           source  \n",
       "7    1005102931     4  train_landmark_files/30680/1005102931.parquet$4  \n",
       "11   1006778422     1  train_landmark_files/22343/1006778422.parquet$1  \n",
       "17   1011764636     0  train_landmark_files/32319/1011764636.parquet$0  \n",
       "18   1011888729     1  train_landmark_files/37055/1011888729.parquet$1  \n",
       "26   1016834986     4  train_landmark_files/27610/1016834986.parquet$4  "
      ]
     },
     "execution_count": 4,
     "metadata": {},
     "output_type": "execute_result"
    }
   ],
   "source": [
    "data = pd.read_excel(\"19 action.xlsx\")\n",
    "data = data.query('sign == [\"thankyou\",\"happy\",\"hello\",\"mom\",\"dad\"]')\n",
    "od_encode.fit(data[['sign']])\n",
    "data['sign'] = od_encode.transform(data[[\"sign\"]])[:,0].astype(int)\n",
    "data['source'] = data['path'] + \"$\" +data['sign'].astype('str')\n",
    "data.head()"
   ]
  },
  {
   "cell_type": "code",
   "execution_count": 5,
   "metadata": {},
   "outputs": [],
   "source": [
    "n_class = data.sign.nunique()"
   ]
  },
  {
   "cell_type": "code",
   "execution_count": 6,
   "metadata": {},
   "outputs": [],
   "source": [
    "X_train, X_test, y_train,y_test = train_test_split(data['source'],data['sign'],test_size=0.2,random_state=10,stratify=data['sign'])"
   ]
  },
  {
   "cell_type": "code",
   "execution_count": 7,
   "metadata": {},
   "outputs": [],
   "source": [
    "X_test, X_val, y_test,y_val = train_test_split(X_test,y_test,test_size=0.5,random_state=10,stratify=y_test,shuffle=True)"
   ]
  },
  {
   "cell_type": "code",
   "execution_count": 8,
   "metadata": {},
   "outputs": [
    {
     "name": "stdout",
     "output_type": "stream",
     "text": [
      "(1519,)\n",
      "(190,)\n",
      "(190,)\n"
     ]
    }
   ],
   "source": [
    "print(X_train.shape)\n",
    "print(X_test.shape)\n",
    "print(X_val.shape)"
   ]
  },
  {
   "cell_type": "code",
   "execution_count": 9,
   "metadata": {},
   "outputs": [],
   "source": [
    "idx = get_interesting_idx()"
   ]
  },
  {
   "cell_type": "code",
   "execution_count": 10,
   "metadata": {},
   "outputs": [],
   "source": [
    "def data_loarder(source):\n",
    "    source = source.numpy().decode()\n",
    "    ld = load_data(idx)\n",
    "    data,label = ld.load_relavent_data(source,n_class,\"$\")\n",
    "    return data,label"
   ]
  },
  {
   "cell_type": "code",
   "execution_count": 11,
   "metadata": {},
   "outputs": [],
   "source": [
    "def map_function(source):\n",
    "    return tf.py_function(data_loarder,[source],(tf.float64,tf.float64))"
   ]
  },
  {
   "cell_type": "code",
   "execution_count": 12,
   "metadata": {},
   "outputs": [],
   "source": [
    "train_ds = Dataset.from_tensor_slices(X_train)\n",
    "train_ds = train_ds.map(map_function)\n",
    "train_ds = train_ds.padded_batch(10,padded_shapes=([None,None,None],[n_class]))"
   ]
  },
  {
   "cell_type": "code",
   "execution_count": 13,
   "metadata": {},
   "outputs": [],
   "source": [
    "test_ds = Dataset.from_tensor_slices(X_test)\n",
    "test_ds = test_ds.map(map_function)\n",
    "test_ds = test_ds.padded_batch(10,padded_shapes=([None,None,None],[n_class]))"
   ]
  },
  {
   "cell_type": "code",
   "execution_count": 14,
   "metadata": {},
   "outputs": [],
   "source": [
    "val_ds = Dataset.from_tensor_slices(X_val)\n",
    "val_ds = val_ds.map(map_function)\n",
    "val_ds = val_ds.padded_batch(10,padded_shapes=([None,None,None],[n_class]))"
   ]
  },
  {
   "cell_type": "markdown",
   "metadata": {},
   "source": [
    "Build model"
   ]
  },
  {
   "cell_type": "code",
   "execution_count": 15,
   "metadata": {},
   "outputs": [],
   "source": [
    "from resnet import add_residual_block,data_augmentation\n",
    "from tensorflow.keras.layers import Dropout,Conv2D,MaxPool2D,GlobalAveragePooling2D,Dense,BatchNormalization,ReLU\n",
    "from tensorflow.keras.callbacks import TensorBoard"
   ]
  },
  {
   "cell_type": "code",
   "execution_count": 16,
   "metadata": {},
   "outputs": [],
   "source": [
    "log_dir = os.path.join('Logs_1')\n",
    "tb_callback = TensorBoard(log_dir=log_dir)"
   ]
  },
  {
   "cell_type": "code",
   "execution_count": 17,
   "metadata": {},
   "outputs": [],
   "source": [
    "Input_shape = (None,160,80,3)\n",
    "Input = tf.keras.layers.Input(shape=Input_shape[1:])\n",
    "x = Input\n",
    "\n",
    "x = Conv2D(16,(3,3),padding='same')(x)\n",
    "x = BatchNormalization()(x)\n",
    "x = ReLU()(x)\n",
    "x = MaxPool2D(pool_size=(3,3),strides=(1,1))(x)\n",
    "\n",
    "x = data_augmentation()(x)\n",
    "\n",
    "#Block 1\n",
    "x = add_residual_block(x,16,(3,3))\n",
    "x = MaxPool2D(pool_size=(3,3),strides=(2,2))(x)\n",
    "x = Dropout(0.25)(x)\n",
    "\n",
    "# Block 2\n",
    "x = add_residual_block(x,32,(3,3))\n",
    "x = MaxPool2D(pool_size=(3,3),strides=(2,2))(x)\n",
    "x = Dropout(0.25)(x)\n",
    "\n",
    "#Block 3\n",
    "x = add_residual_block(x,32,(3,3))\n",
    "x = MaxPool2D(pool_size=(3,3),strides=(2,2))(x)\n",
    "x = Dropout(0.25)(x)\n",
    "\n",
    "x = Conv2D(16,(3,3),padding='same')(x)\n",
    "x = MaxPool2D(pool_size=(3,3),strides=(2,2))(x)\n",
    "\n",
    "x = GlobalAveragePooling2D()(x)\n",
    "x = Dense(n_class,activation='softmax')(x)\n",
    "\n",
    "model = tf.keras.Model(Input,x)"
   ]
  },
  {
   "cell_type": "code",
   "execution_count": 18,
   "metadata": {},
   "outputs": [
    {
     "name": "stdout",
     "output_type": "stream",
     "text": [
      "Model: \"model\"\n",
      "__________________________________________________________________________________________________\n",
      " Layer (type)                   Output Shape         Param #     Connected to                     \n",
      "==================================================================================================\n",
      " input_1 (InputLayer)           [(None, 160, 80, 3)  0           []                               \n",
      "                                ]                                                                 \n",
      "                                                                                                  \n",
      " conv2d (Conv2D)                (None, 160, 80, 16)  448         ['input_1[0][0]']                \n",
      "                                                                                                  \n",
      " batch_normalization (BatchNorm  (None, 160, 80, 16)  64         ['conv2d[0][0]']                 \n",
      " alization)                                                                                       \n",
      "                                                                                                  \n",
      " re_lu (ReLU)                   (None, 160, 80, 16)  0           ['batch_normalization[0][0]']    \n",
      "                                                                                                  \n",
      " max_pooling2d (MaxPooling2D)   (None, 158, 78, 16)  0           ['re_lu[0][0]']                  \n",
      "                                                                                                  \n",
      " data_augmentation (data_augmen  (None, 158, 78, 16)  0          ['max_pooling2d[0][0]']          \n",
      " tation)                                                                                          \n",
      "                                                                                                  \n",
      " residual_main (Residual_main)  (None, 158, 78, 16)  4672        ['data_augmentation[0][0]']      \n",
      "                                                                                                  \n",
      " add (Add)                      (None, 158, 78, 16)  0           ['data_augmentation[0][0]',      \n",
      "                                                                  'residual_main[0][0]']          \n",
      "                                                                                                  \n",
      " max_pooling2d_1 (MaxPooling2D)  (None, 78, 38, 16)  0           ['add[0][0]']                    \n",
      "                                                                                                  \n",
      " dropout (Dropout)              (None, 78, 38, 16)   0           ['max_pooling2d_1[0][0]']        \n",
      "                                                                                                  \n",
      " project (project)              (None, 78, 38, 32)   608         ['dropout[0][0]']                \n",
      "                                                                                                  \n",
      " residual_main_1 (Residual_main  (None, 78, 38, 32)  13952       ['dropout[0][0]']                \n",
      " )                                                                                                \n",
      "                                                                                                  \n",
      " add_1 (Add)                    (None, 78, 38, 32)   0           ['project[0][0]',                \n",
      "                                                                  'residual_main_1[0][0]']        \n",
      "                                                                                                  \n",
      " max_pooling2d_2 (MaxPooling2D)  (None, 38, 18, 32)  0           ['add_1[0][0]']                  \n",
      "                                                                                                  \n",
      " dropout_1 (Dropout)            (None, 38, 18, 32)   0           ['max_pooling2d_2[0][0]']        \n",
      "                                                                                                  \n",
      " residual_main_2 (Residual_main  (None, 38, 18, 32)  18560       ['dropout_1[0][0]']              \n",
      " )                                                                                                \n",
      "                                                                                                  \n",
      " add_2 (Add)                    (None, 38, 18, 32)   0           ['dropout_1[0][0]',              \n",
      "                                                                  'residual_main_2[0][0]']        \n",
      "                                                                                                  \n",
      " max_pooling2d_3 (MaxPooling2D)  (None, 18, 8, 32)   0           ['add_2[0][0]']                  \n",
      "                                                                                                  \n",
      " dropout_2 (Dropout)            (None, 18, 8, 32)    0           ['max_pooling2d_3[0][0]']        \n",
      "                                                                                                  \n",
      " conv2d_7 (Conv2D)              (None, 18, 8, 16)    4624        ['dropout_2[0][0]']              \n",
      "                                                                                                  \n",
      " max_pooling2d_4 (MaxPooling2D)  (None, 8, 3, 16)    0           ['conv2d_7[0][0]']               \n",
      "                                                                                                  \n",
      " global_average_pooling2d (Glob  (None, 16)          0           ['max_pooling2d_4[0][0]']        \n",
      " alAveragePooling2D)                                                                              \n",
      "                                                                                                  \n",
      " dense_1 (Dense)                (None, 5)            85          ['global_average_pooling2d[0][0]'\n",
      "                                                                 ]                                \n",
      "                                                                                                  \n",
      "==================================================================================================\n",
      "Total params: 43,013\n",
      "Trainable params: 42,981\n",
      "Non-trainable params: 32\n",
      "__________________________________________________________________________________________________\n"
     ]
    }
   ],
   "source": [
    "model.summary()"
   ]
  },
  {
   "cell_type": "code",
   "execution_count": 19,
   "metadata": {},
   "outputs": [],
   "source": [
    "model.compile(loss='categorical_crossentropy',\n",
    "              optimizer = tf.keras.optimizers.Adam(learning_rate = 0.0001),\n",
    "              metrics = ['accuracy'])"
   ]
  },
  {
   "cell_type": "code",
   "execution_count": 29,
   "metadata": {},
   "outputs": [
    {
     "name": "stdout",
     "output_type": "stream",
     "text": [
      "WARNING:tensorflow:Model failed to serialize as JSON. Ignoring... \n",
      "Layer Residual_main has arguments ['filter', 'kernel_size']\n",
      "in `__init__` and therefore must override `get_config()`.\n",
      "\n",
      "Example:\n",
      "\n",
      "class CustomLayer(keras.layers.Layer):\n",
      "    def __init__(self, arg1, arg2):\n",
      "        super().__init__()\n",
      "        self.arg1 = arg1\n",
      "        self.arg2 = arg2\n",
      "\n",
      "    def get_config(self):\n",
      "        config = super().get_config()\n",
      "        config.update({\n",
      "            \"arg1\": self.arg1,\n",
      "            \"arg2\": self.arg2,\n",
      "        })\n",
      "        return config\n",
      "Epoch 1/50\n",
      "152/152 [==============================] - 25s 165ms/step - loss: 0.2225 - accuracy: 0.9203 - val_loss: 0.7276 - val_accuracy: 0.8158\n",
      "Epoch 2/50\n",
      "152/152 [==============================] - 24s 155ms/step - loss: 0.2371 - accuracy: 0.9098 - val_loss: 0.7136 - val_accuracy: 0.8421\n",
      "Epoch 3/50\n",
      "152/152 [==============================] - 25s 162ms/step - loss: 0.2097 - accuracy: 0.9157 - val_loss: 0.6481 - val_accuracy: 0.8421\n",
      "Epoch 4/50\n",
      "152/152 [==============================] - 23s 154ms/step - loss: 0.2372 - accuracy: 0.9144 - val_loss: 0.6406 - val_accuracy: 0.8526\n",
      "Epoch 5/50\n",
      "152/152 [==============================] - 25s 165ms/step - loss: 0.2056 - accuracy: 0.9315 - val_loss: 0.6407 - val_accuracy: 0.8474\n",
      "Epoch 6/50\n",
      "152/152 [==============================] - 24s 159ms/step - loss: 0.2122 - accuracy: 0.9177 - val_loss: 0.7035 - val_accuracy: 0.8263\n",
      "Epoch 7/50\n",
      "152/152 [==============================] - 24s 156ms/step - loss: 0.2133 - accuracy: 0.9269 - val_loss: 0.7075 - val_accuracy: 0.8316\n",
      "Epoch 8/50\n",
      "152/152 [==============================] - 25s 165ms/step - loss: 0.2098 - accuracy: 0.9269 - val_loss: 0.7082 - val_accuracy: 0.8316\n",
      "Epoch 9/50\n",
      "152/152 [==============================] - 24s 158ms/step - loss: 0.2124 - accuracy: 0.9236 - val_loss: 0.6931 - val_accuracy: 0.8211\n",
      "Epoch 10/50\n",
      "152/152 [==============================] - 24s 156ms/step - loss: 0.2037 - accuracy: 0.9243 - val_loss: 0.6021 - val_accuracy: 0.8421\n",
      "Epoch 11/50\n",
      "152/152 [==============================] - 24s 159ms/step - loss: 0.2083 - accuracy: 0.9223 - val_loss: 0.6759 - val_accuracy: 0.8474\n",
      "Epoch 12/50\n",
      "152/152 [==============================] - 24s 155ms/step - loss: 0.2258 - accuracy: 0.9157 - val_loss: 0.7210 - val_accuracy: 0.8474\n",
      "Epoch 13/50\n",
      "152/152 [==============================] - 25s 161ms/step - loss: 0.2144 - accuracy: 0.9203 - val_loss: 0.7107 - val_accuracy: 0.8105\n",
      "Epoch 14/50\n",
      "152/152 [==============================] - 24s 157ms/step - loss: 0.2038 - accuracy: 0.9263 - val_loss: 0.7384 - val_accuracy: 0.8368\n",
      "Epoch 15/50\n",
      "152/152 [==============================] - 24s 156ms/step - loss: 0.1925 - accuracy: 0.9309 - val_loss: 0.8160 - val_accuracy: 0.8158\n",
      "Epoch 16/50\n",
      "152/152 [==============================] - 25s 163ms/step - loss: 0.2054 - accuracy: 0.9256 - val_loss: 0.7421 - val_accuracy: 0.8316\n",
      "Epoch 17/50\n",
      "152/152 [==============================] - 24s 155ms/step - loss: 0.2280 - accuracy: 0.9065 - val_loss: 0.8299 - val_accuracy: 0.8263\n",
      "Epoch 18/50\n",
      "152/152 [==============================] - 24s 155ms/step - loss: 0.2018 - accuracy: 0.9217 - val_loss: 0.7685 - val_accuracy: 0.8368\n",
      "Epoch 19/50\n",
      "152/152 [==============================] - 24s 159ms/step - loss: 0.2039 - accuracy: 0.9296 - val_loss: 0.7517 - val_accuracy: 0.8263\n",
      "Epoch 20/50\n",
      "152/152 [==============================] - 24s 160ms/step - loss: 0.1990 - accuracy: 0.9315 - val_loss: 0.7151 - val_accuracy: 0.8211\n",
      "Epoch 21/50\n",
      "152/152 [==============================] - 24s 158ms/step - loss: 0.2126 - accuracy: 0.9171 - val_loss: 0.8447 - val_accuracy: 0.8368\n",
      "Epoch 22/50\n",
      "152/152 [==============================] - 24s 156ms/step - loss: 0.1923 - accuracy: 0.9302 - val_loss: 0.7359 - val_accuracy: 0.8474\n",
      "Epoch 23/50\n",
      "152/152 [==============================] - 24s 158ms/step - loss: 0.1820 - accuracy: 0.9355 - val_loss: 0.7453 - val_accuracy: 0.8421\n",
      "Epoch 24/50\n",
      "152/152 [==============================] - 26s 170ms/step - loss: 0.1801 - accuracy: 0.9329 - val_loss: 0.6701 - val_accuracy: 0.8474\n",
      "Epoch 25/50\n",
      "152/152 [==============================] - 25s 162ms/step - loss: 0.2078 - accuracy: 0.9171 - val_loss: 0.7583 - val_accuracy: 0.8316\n",
      "Epoch 26/50\n",
      "152/152 [==============================] - 24s 154ms/step - loss: 0.2017 - accuracy: 0.9243 - val_loss: 0.8020 - val_accuracy: 0.8158\n",
      "Epoch 27/50\n",
      "152/152 [==============================] - 24s 157ms/step - loss: 0.2104 - accuracy: 0.9315 - val_loss: 0.8701 - val_accuracy: 0.8263\n",
      "Epoch 28/50\n",
      "152/152 [==============================] - 24s 158ms/step - loss: 0.1881 - accuracy: 0.9342 - val_loss: 0.8767 - val_accuracy: 0.8158\n",
      "Epoch 29/50\n",
      "152/152 [==============================] - 24s 157ms/step - loss: 0.1929 - accuracy: 0.9309 - val_loss: 0.7358 - val_accuracy: 0.8526\n",
      "Epoch 30/50\n",
      "152/152 [==============================] - 24s 158ms/step - loss: 0.1920 - accuracy: 0.9269 - val_loss: 0.7916 - val_accuracy: 0.8263\n",
      "Epoch 31/50\n",
      "152/152 [==============================] - 25s 164ms/step - loss: 0.2091 - accuracy: 0.9171 - val_loss: 0.8576 - val_accuracy: 0.8211\n",
      "Epoch 32/50\n",
      "152/152 [==============================] - 24s 157ms/step - loss: 0.1710 - accuracy: 0.9322 - val_loss: 0.7983 - val_accuracy: 0.8368\n",
      "Epoch 33/50\n",
      "152/152 [==============================] - 24s 157ms/step - loss: 0.1985 - accuracy: 0.9223 - val_loss: 0.8202 - val_accuracy: 0.8158\n",
      "Epoch 34/50\n",
      "152/152 [==============================] - 25s 165ms/step - loss: 0.2015 - accuracy: 0.9276 - val_loss: 0.7091 - val_accuracy: 0.8474\n",
      "Epoch 35/50\n",
      "152/152 [==============================] - 24s 157ms/step - loss: 0.1840 - accuracy: 0.9282 - val_loss: 0.7846 - val_accuracy: 0.8263\n",
      "Epoch 36/50\n",
      "152/152 [==============================] - 25s 164ms/step - loss: 0.1885 - accuracy: 0.9302 - val_loss: 0.7294 - val_accuracy: 0.8263\n",
      "Epoch 37/50\n",
      "152/152 [==============================] - 25s 164ms/step - loss: 0.1832 - accuracy: 0.9263 - val_loss: 0.7241 - val_accuracy: 0.8368\n",
      "Epoch 38/50\n",
      "152/152 [==============================] - 24s 157ms/step - loss: 0.1631 - accuracy: 0.9460 - val_loss: 0.7487 - val_accuracy: 0.8421\n",
      "Epoch 39/50\n",
      "152/152 [==============================] - 25s 164ms/step - loss: 0.1772 - accuracy: 0.9355 - val_loss: 0.7196 - val_accuracy: 0.8316\n",
      "Epoch 40/50\n",
      "152/152 [==============================] - 24s 160ms/step - loss: 0.1737 - accuracy: 0.9361 - val_loss: 0.8440 - val_accuracy: 0.8211\n",
      "Epoch 41/50\n",
      "152/152 [==============================] - 25s 167ms/step - loss: 0.1782 - accuracy: 0.9322 - val_loss: 0.9125 - val_accuracy: 0.8263\n",
      "Epoch 42/50\n",
      "152/152 [==============================] - 24s 157ms/step - loss: 0.1921 - accuracy: 0.9236 - val_loss: 0.8119 - val_accuracy: 0.8211\n",
      "Epoch 43/50\n",
      "152/152 [==============================] - 24s 157ms/step - loss: 0.1765 - accuracy: 0.9375 - val_loss: 0.8384 - val_accuracy: 0.8316\n",
      "Epoch 44/50\n",
      "152/152 [==============================] - 25s 167ms/step - loss: 0.2162 - accuracy: 0.9230 - val_loss: 0.8792 - val_accuracy: 0.8263\n",
      "Epoch 45/50\n",
      "152/152 [==============================] - 24s 159ms/step - loss: 0.1751 - accuracy: 0.9381 - val_loss: 0.7860 - val_accuracy: 0.8316\n",
      "Epoch 46/50\n",
      "152/152 [==============================] - 25s 164ms/step - loss: 0.1716 - accuracy: 0.9401 - val_loss: 0.8804 - val_accuracy: 0.8105\n",
      "Epoch 47/50\n",
      "152/152 [==============================] - 25s 164ms/step - loss: 0.1888 - accuracy: 0.9256 - val_loss: 0.8013 - val_accuracy: 0.8211\n",
      "Epoch 48/50\n",
      "152/152 [==============================] - 24s 155ms/step - loss: 0.1687 - accuracy: 0.9361 - val_loss: 0.8495 - val_accuracy: 0.8316\n",
      "Epoch 49/50\n",
      "152/152 [==============================] - 24s 156ms/step - loss: 0.1856 - accuracy: 0.9355 - val_loss: 0.9497 - val_accuracy: 0.8158\n",
      "Epoch 50/50\n",
      "152/152 [==============================] - 26s 168ms/step - loss: 0.1774 - accuracy: 0.9388 - val_loss: 0.8101 - val_accuracy: 0.8158\n"
     ]
    },
    {
     "data": {
      "text/plain": [
       "<keras.callbacks.History at 0x28420ef3a00>"
      ]
     },
     "execution_count": 29,
     "metadata": {},
     "output_type": "execute_result"
    }
   ],
   "source": [
    "model.fit(train_ds,epochs=50,validation_data=val_ds,callbacks=[tb_callback])"
   ]
  },
  {
   "cell_type": "code",
   "execution_count": 30,
   "metadata": {},
   "outputs": [
    {
     "name": "stdout",
     "output_type": "stream",
     "text": [
      "19/19 [==============================] - 2s 84ms/step - loss: 0.7574 - accuracy: 0.8105\n"
     ]
    },
    {
     "data": {
      "text/plain": [
       "[0.7573918104171753, 0.8105263113975525]"
      ]
     },
     "execution_count": 30,
     "metadata": {},
     "output_type": "execute_result"
    }
   ],
   "source": [
    "model.evaluate(test_ds)"
   ]
  },
  {
   "cell_type": "code",
   "execution_count": 37,
   "metadata": {},
   "outputs": [
    {
     "name": "stdout",
     "output_type": "stream",
     "text": [
      "WARNING:tensorflow:Using a while_loop for converting RngReadAndSkip cause there is no registered converter for this op.\n",
      "WARNING:tensorflow:Using a while_loop for converting Bitcast cause there is no registered converter for this op.\n",
      "WARNING:tensorflow:Using a while_loop for converting Bitcast cause there is no registered converter for this op.\n",
      "WARNING:tensorflow:Using a while_loop for converting StatelessRandomUniformV2 cause there is no registered converter for this op.\n",
      "WARNING:tensorflow:Using a while_loop for converting ImageProjectiveTransformV3 cause there is no registered converter for this op.\n",
      "WARNING:tensorflow:Using a while_loop for converting RngReadAndSkip cause there is no registered converter for this op.\n",
      "WARNING:tensorflow:Using a while_loop for converting Bitcast cause there is no registered converter for this op.\n",
      "WARNING:tensorflow:Using a while_loop for converting Bitcast cause there is no registered converter for this op.\n",
      "WARNING:tensorflow:Using a while_loop for converting StatelessRandomUniformV2 cause there is no registered converter for this op.\n",
      "WARNING:tensorflow:Using a while_loop for converting ImageProjectiveTransformV3 cause there is no registered converter for this op.\n",
      "WARNING:tensorflow:Using a while_loop for converting RngReadAndSkip cause there is no registered converter for this op.\n",
      "WARNING:tensorflow:Using a while_loop for converting Bitcast cause there is no registered converter for this op.\n",
      "WARNING:tensorflow:Using a while_loop for converting Bitcast cause there is no registered converter for this op.\n",
      "WARNING:tensorflow:Using a while_loop for converting StatelessRandomUniformV2 cause there is no registered converter for this op.\n",
      "WARNING:tensorflow:Using a while_loop for converting ImageProjectiveTransformV3 cause there is no registered converter for this op.\n",
      "WARNING:tensorflow:Using a while_loop for converting RngReadAndSkip cause there is no registered converter for this op.\n",
      "WARNING:tensorflow:Using a while_loop for converting Bitcast cause there is no registered converter for this op.\n",
      "WARNING:tensorflow:Using a while_loop for converting Bitcast cause there is no registered converter for this op.\n",
      "WARNING:tensorflow:Using a while_loop for converting StatelessRandomUniformV2 cause there is no registered converter for this op.\n",
      "WARNING:tensorflow:Using a while_loop for converting ImageProjectiveTransformV3 cause there is no registered converter for this op.\n",
      "WARNING:tensorflow:Using a while_loop for converting RngReadAndSkip cause there is no registered converter for this op.\n",
      "WARNING:tensorflow:Using a while_loop for converting Bitcast cause there is no registered converter for this op.\n",
      "WARNING:tensorflow:Using a while_loop for converting Bitcast cause there is no registered converter for this op.\n",
      "WARNING:tensorflow:Using a while_loop for converting StatelessRandomUniformV2 cause there is no registered converter for this op.\n",
      "WARNING:tensorflow:Using a while_loop for converting ImageProjectiveTransformV3 cause there is no registered converter for this op.\n",
      "WARNING:tensorflow:Using a while_loop for converting RngReadAndSkip cause there is no registered converter for this op.\n",
      "WARNING:tensorflow:Using a while_loop for converting Bitcast cause there is no registered converter for this op.\n",
      "WARNING:tensorflow:Using a while_loop for converting Bitcast cause there is no registered converter for this op.\n",
      "WARNING:tensorflow:Using a while_loop for converting StatelessRandomUniformV2 cause there is no registered converter for this op.\n",
      "WARNING:tensorflow:Using a while_loop for converting ImageProjectiveTransformV3 cause there is no registered converter for this op.\n",
      "WARNING:tensorflow:Using a while_loop for converting RngReadAndSkip cause there is no registered converter for this op.\n",
      "WARNING:tensorflow:Using a while_loop for converting Bitcast cause there is no registered converter for this op.\n",
      "WARNING:tensorflow:Using a while_loop for converting Bitcast cause there is no registered converter for this op.\n",
      "WARNING:tensorflow:Using a while_loop for converting StatelessRandomUniformV2 cause there is no registered converter for this op.\n",
      "WARNING:tensorflow:Using a while_loop for converting ImageProjectiveTransformV3 cause there is no registered converter for this op.\n",
      "WARNING:tensorflow:Using a while_loop for converting RngReadAndSkip cause there is no registered converter for this op.\n",
      "WARNING:tensorflow:Using a while_loop for converting Bitcast cause there is no registered converter for this op.\n",
      "WARNING:tensorflow:Using a while_loop for converting Bitcast cause there is no registered converter for this op.\n",
      "WARNING:tensorflow:Using a while_loop for converting StatelessRandomUniformV2 cause there is no registered converter for this op.\n",
      "WARNING:tensorflow:Using a while_loop for converting ImageProjectiveTransformV3 cause there is no registered converter for this op.\n",
      "WARNING:tensorflow:Using a while_loop for converting RngReadAndSkip cause there is no registered converter for this op.\n",
      "WARNING:tensorflow:Using a while_loop for converting Bitcast cause there is no registered converter for this op.\n",
      "WARNING:tensorflow:Using a while_loop for converting Bitcast cause there is no registered converter for this op.\n",
      "WARNING:tensorflow:Using a while_loop for converting StatelessRandomUniformV2 cause there is no registered converter for this op.\n",
      "WARNING:tensorflow:Using a while_loop for converting ImageProjectiveTransformV3 cause there is no registered converter for this op.\n",
      "WARNING:tensorflow:Using a while_loop for converting RngReadAndSkip cause there is no registered converter for this op.\n",
      "WARNING:tensorflow:Using a while_loop for converting Bitcast cause there is no registered converter for this op.\n",
      "WARNING:tensorflow:Using a while_loop for converting Bitcast cause there is no registered converter for this op.\n",
      "WARNING:tensorflow:Using a while_loop for converting StatelessRandomUniformV2 cause there is no registered converter for this op.\n",
      "WARNING:tensorflow:Using a while_loop for converting ImageProjectiveTransformV3 cause there is no registered converter for this op.\n",
      "WARNING:tensorflow:Using a while_loop for converting RngReadAndSkip cause there is no registered converter for this op.\n",
      "WARNING:tensorflow:Using a while_loop for converting Bitcast cause there is no registered converter for this op.\n",
      "WARNING:tensorflow:Using a while_loop for converting Bitcast cause there is no registered converter for this op.\n",
      "WARNING:tensorflow:Using a while_loop for converting StatelessRandomUniformV2 cause there is no registered converter for this op.\n",
      "WARNING:tensorflow:Using a while_loop for converting ImageProjectiveTransformV3 cause there is no registered converter for this op.\n",
      "WARNING:tensorflow:Using a while_loop for converting RngReadAndSkip cause there is no registered converter for this op.\n",
      "WARNING:tensorflow:Using a while_loop for converting Bitcast cause there is no registered converter for this op.\n",
      "WARNING:tensorflow:Using a while_loop for converting Bitcast cause there is no registered converter for this op.\n",
      "WARNING:tensorflow:Using a while_loop for converting StatelessRandomUniformV2 cause there is no registered converter for this op.\n",
      "WARNING:tensorflow:Using a while_loop for converting ImageProjectiveTransformV3 cause there is no registered converter for this op.\n"
     ]
    },
    {
     "name": "stderr",
     "output_type": "stream",
     "text": [
      "WARNING:absl:Found untraced functions such as _jit_compiled_convolution_op, _jit_compiled_convolution_op, _jit_compiled_convolution_op, _jit_compiled_convolution_op, _jit_compiled_convolution_op while saving (showing 5 of 8). These functions will not be directly callable after loading.\n"
     ]
    },
    {
     "name": "stdout",
     "output_type": "stream",
     "text": [
      "INFO:tensorflow:Assets written to: 5_action_v2_acc_94_valacc_81\\assets\n"
     ]
    },
    {
     "name": "stderr",
     "output_type": "stream",
     "text": [
      "INFO:tensorflow:Assets written to: 5_action_v2_acc_94_valacc_81\\assets\n"
     ]
    }
   ],
   "source": [
    "model.save(\"5_action_v2_acc_94_valacc_81\")"
   ]
  },
  {
   "cell_type": "code",
   "execution_count": 31,
   "metadata": {},
   "outputs": [
    {
     "name": "stdout",
     "output_type": "stream",
     "text": [
      "1/1 [==============================] - 0s 26ms/step\n",
      "1/1 [==============================] - 0s 22ms/step\n",
      "1/1 [==============================] - 0s 26ms/step\n",
      "1/1 [==============================] - 0s 26ms/step\n",
      "1/1 [==============================] - 0s 33ms/step\n",
      "1/1 [==============================] - 0s 25ms/step\n",
      "1/1 [==============================] - 0s 26ms/step\n",
      "1/1 [==============================] - 0s 31ms/step\n",
      "1/1 [==============================] - 0s 22ms/step\n",
      "1/1 [==============================] - 0s 33ms/step\n",
      "1/1 [==============================] - 0s 35ms/step\n",
      "1/1 [==============================] - 0s 30ms/step\n",
      "1/1 [==============================] - 0s 31ms/step\n",
      "1/1 [==============================] - 0s 31ms/step\n",
      "1/1 [==============================] - 0s 31ms/step\n",
      "1/1 [==============================] - 0s 53ms/step\n",
      "1/1 [==============================] - 0s 57ms/step\n",
      "1/1 [==============================] - 0s 45ms/step\n",
      "1/1 [==============================] - 0s 67ms/step\n"
     ]
    }
   ],
   "source": [
    "act_pred = []\n",
    "for values in test_ds:\n",
    "    y_pred = model.predict(values[0])\n",
    "    y_pred = list(map(lambda X:np.argmax(X),y_pred))\n",
    "    act = list(map(lambda X:np.argmax(X),values[1]))\n",
    "    for value in  zip(act,y_pred):\n",
    "        act_pred.append(value)\n"
   ]
  },
  {
   "cell_type": "code",
   "execution_count": 32,
   "metadata": {},
   "outputs": [
    {
     "data": {
      "text/html": [
       "<div>\n",
       "<style scoped>\n",
       "    .dataframe tbody tr th:only-of-type {\n",
       "        vertical-align: middle;\n",
       "    }\n",
       "\n",
       "    .dataframe tbody tr th {\n",
       "        vertical-align: top;\n",
       "    }\n",
       "\n",
       "    .dataframe thead th {\n",
       "        text-align: right;\n",
       "    }\n",
       "</style>\n",
       "<table border=\"1\" class=\"dataframe\">\n",
       "  <thead>\n",
       "    <tr style=\"text-align: right;\">\n",
       "      <th></th>\n",
       "      <th>Actual</th>\n",
       "      <th>Predict</th>\n",
       "    </tr>\n",
       "  </thead>\n",
       "  <tbody>\n",
       "    <tr>\n",
       "      <th>0</th>\n",
       "      <td>2</td>\n",
       "      <td>2</td>\n",
       "    </tr>\n",
       "    <tr>\n",
       "      <th>1</th>\n",
       "      <td>1</td>\n",
       "      <td>1</td>\n",
       "    </tr>\n",
       "    <tr>\n",
       "      <th>2</th>\n",
       "      <td>1</td>\n",
       "      <td>1</td>\n",
       "    </tr>\n",
       "    <tr>\n",
       "      <th>3</th>\n",
       "      <td>2</td>\n",
       "      <td>0</td>\n",
       "    </tr>\n",
       "    <tr>\n",
       "      <th>4</th>\n",
       "      <td>3</td>\n",
       "      <td>3</td>\n",
       "    </tr>\n",
       "  </tbody>\n",
       "</table>\n",
       "</div>"
      ],
      "text/plain": [
       "   Actual  Predict\n",
       "0       2        2\n",
       "1       1        1\n",
       "2       1        1\n",
       "3       2        0\n",
       "4       3        3"
      ]
     },
     "execution_count": 32,
     "metadata": {},
     "output_type": "execute_result"
    }
   ],
   "source": [
    "evaluation = pd.DataFrame(act_pred,columns=[\"Actual\",\"Predict\"])\n",
    "evaluation.head()"
   ]
  },
  {
   "cell_type": "code",
   "execution_count": 26,
   "metadata": {},
   "outputs": [],
   "source": [
    "from sklearn.metrics import classification_report,confusion_matrix\n",
    "import seaborn as sns"
   ]
  },
  {
   "cell_type": "code",
   "execution_count": 33,
   "metadata": {},
   "outputs": [
    {
     "name": "stdout",
     "output_type": "stream",
     "text": [
      "              precision    recall  f1-score   support\n",
      "\n",
      "           0       0.64      0.97      0.77        38\n",
      "           1       0.79      0.79      0.79        38\n",
      "           2       1.00      0.72      0.84        39\n",
      "           3       1.00      0.82      0.90        40\n",
      "           4       0.79      0.74      0.76        35\n",
      "\n",
      "    accuracy                           0.81       190\n",
      "   macro avg       0.84      0.81      0.81       190\n",
      "weighted avg       0.85      0.81      0.81       190\n",
      "\n"
     ]
    }
   ],
   "source": [
    "print(classification_report(evaluation[\"Actual\"],evaluation[\"Predict\"]))"
   ]
  },
  {
   "cell_type": "code",
   "execution_count": 34,
   "metadata": {},
   "outputs": [
    {
     "data": {
      "text/plain": [
       "<Axes: >"
      ]
     },
     "execution_count": 34,
     "metadata": {},
     "output_type": "execute_result"
    },
    {
     "data": {
      "image/png": "[encoded data removed]",
      "text/plain": [
       "<Figure size 640x480 with 2 Axes>"
      ]
     },
     "metadata": {},
     "output_type": "display_data"
    }
   ],
   "source": [
    "sns.heatmap(confusion_matrix(evaluation[\"Actual\"],evaluation[\"Predict\"]),annot=True)"
   ]
  },
  {
   "cell_type": "code",
   "execution_count": 35,
   "metadata": {},
   "outputs": [],
   "source": [
    "import pickle"
   ]
  },
  {
   "cell_type": "code",
   "execution_count": 39,
   "metadata": {},
   "outputs": [],
   "source": [
    "with open(\"Label_encoder_5.pkl\",'wb') as file:\n",
    "    pickle.dump(od_encode,file)"
   ]
  },
  {
   "cell_type": "code",
   "execution_count": null,
   "metadata": {},
   "outputs": [],
   "source": []
  }
 ],
 "metadata": {
  "kernelspec": {
   "display_name": "sign",
   "language": "python",
   "name": "python3"
  },
  "language_info": {
   "codemirror_mode": {
    "name": "ipython",
    "version": 3
   },
   "file_extension": ".py",
   "mimetype": "text/x-python",
   "name": "python",
   "nbconvert_exporter": "python",
   "pygments_lexer": "ipython3",
   "version": "3.10.9"
  },
  "orig_nbformat": 4
 },
 "nbformat": 4,
 "nbformat_minor": 2
}
