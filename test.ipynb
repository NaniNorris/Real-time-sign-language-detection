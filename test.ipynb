{
 "cells": [
  {
   "cell_type": "code",
   "execution_count": 1,
   "metadata": {},
   "outputs": [],
   "source": [
    "import numpy as np\n",
    "import pandas as pd\n",
    "from landmarks import holostic_model\n",
    "from preprocess import load_data,get_interesting_idx\n",
    "import matplotlib.pyplot as plt\n",
    "from tensorflow.keras import models\n",
    "import tensorflow as tf\n",
    "import pickle"
   ]
  },
  {
   "cell_type": "code",
   "execution_count": 2,
   "metadata": {},
   "outputs": [],
   "source": [
    "with open(\"Label_encoder_5.pkl\",'rb') as file:\n",
    "    label_encode = pickle.load(file)"
   ]
  },
  {
   "cell_type": "code",
   "execution_count": 3,
   "metadata": {},
   "outputs": [],
   "source": [
    "model = models.load_model(\"5_action_v2_acc_94_valacc_81\")"
   ]
  },
  {
   "cell_type": "code",
   "execution_count": 4,
   "metadata": {},
   "outputs": [],
   "source": [
    "mp_model = holostic_model()\n",
    "idx = get_interesting_idx()\n",
    "data_load = load_data(idx)"
   ]
  },
  {
   "cell_type": "code",
   "execution_count": 14,
   "metadata": {},
   "outputs": [
    {
     "name": "stdout",
     "output_type": "stream",
     "text": [
      "1/1 [==============================] - 0s 25ms/step\n",
      "Acttual sign : Hello_1.mp4 Predicted sign : [['hello']]\n",
      "1/1 [==============================] - 0s 34ms/step\n",
      "Acttual sign : Happy.mp4 Predicted sign : [['thankyou']]\n",
      "1/1 [==============================] - 0s 33ms/step\n",
      "Acttual sign : Thank_you.mp4 Predicted sign : [['thankyou']]\n",
      "1/1 [==============================] - 0s 69ms/step\n",
      "Acttual sign : Hello.mp4 Predicted sign : [['hello']]\n",
      "1/1 [==============================] - 0s 25ms/step\n",
      "Acttual sign : Happy_1.mp4 Predicted sign : [['happy']]\n",
      "1/1 [==============================] - 0s 25ms/step\n",
      "Acttual sign : Mom.mp4 Predicted sign : [['mom']]\n",
      "1/1 [==============================] - 0s 24ms/step\n",
      "Acttual sign : Dad.mp4 Predicted sign : [['dad']]\n",
      "1/1 [==============================] - 0s 25ms/step\n",
      "Acttual sign : Mom_1.mp4 Predicted sign : [['hello']]\n",
      "1/1 [==============================] - 0s 23ms/step\n",
      "Acttual sign : Dad_1.mp4 Predicted sign : [['dad']]\n"
     ]
    }
   ],
   "source": [
    "for sign in ['Hello_1.mp4','Happy.mp4','Thank_you.mp4','Hello.mp4','Happy_1.mp4','Mom.mp4','Dad.mp4','Mom_1.mp4','Dad_1.mp4']:\n",
    "    value = mp_model.extract_values(sign)\n",
    "    value = data_load.load_no_sign_data(value)\n",
    "    pred = model.predict(tf.expand_dims(value,0))\n",
    "    pred = label_encode.inverse_transform([[np.argmax(pred.squeeze())]])\n",
    "    print(f\"Acttual sign : {sign} Predicted sign : {pred}\")"
   ]
  },
  {
   "cell_type": "code",
   "execution_count": 11,
   "metadata": {},
   "outputs": [
    {
     "data": {
      "text/plain": [
       "array([['happy']], dtype=object)"
      ]
     },
     "execution_count": 11,
     "metadata": {},
     "output_type": "execute_result"
    }
   ],
   "source": [
    "label_encode.inverse_transform([[1]])"
   ]
  }
 ],
 "metadata": {
  "kernelspec": {
   "display_name": "sign",
   "language": "python",
   "name": "python3"
  },
  "language_info": {
   "codemirror_mode": {
    "name": "ipython",
    "version": 3
   },
   "file_extension": ".py",
   "mimetype": "text/x-python",
   "name": "python",
   "nbconvert_exporter": "python",
   "pygments_lexer": "ipython3",
   "version": "3.10.9"
  },
  "orig_nbformat": 4
 },
 "nbformat": 4,
 "nbformat_minor": 2
}
